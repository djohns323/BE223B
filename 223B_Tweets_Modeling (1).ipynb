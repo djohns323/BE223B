{
 "cells": [
  {
   "cell_type": "code",
   "execution_count": 1,
   "metadata": {
    "collapsed": true
   },
   "outputs": [],
   "source": [
    "import pandas as pd\n",
    "import numpy as np\n",
    "import json\n",
    "import os\n",
    "import string\n",
    "import re\n",
    "import random\n",
    "\n",
    "import nltk\n",
    "from nltk import word_tokenize\n",
    "from nltk.corpus import (wordnet, stopwords)\n",
    "from nltk.stem.snowball import SnowballStemmer\n",
    "\n",
    "from vaderSentiment.vaderSentiment import SentimentIntensityAnalyzer\n",
    "import matplotlib.pyplot as plt\n",
    "\n",
    "from sklearn.linear_model import (LogisticRegression, LogisticRegressionCV)\n",
    "from sklearn.ensemble import RandomForestClassifier\n",
    "from sklearn.model_selection import GridSearchCV\n",
    "from sklearn.feature_selection import RFE\n",
    "from sklearn.feature_extraction.text import TfidfVectorizer\n",
    "from sklearn.metrics import (confusion_matrix, \n",
    "                             recall_score, \n",
    "                             f1_score, \n",
    "                             accuracy_score, \n",
    "                             precision_score,\n",
    "                             roc_curve, auc, roc_auc_score)\n",
    "\n",
    "import warnings\n",
    "warnings.filterwarnings('ignore')\n",
    "\n",
    "from datetime import *\n",
    "from bisect import bisect"
   ]
  },
  {
   "cell_type": "code",
   "execution_count": null,
   "metadata": {
    "collapsed": true
   },
   "outputs": [],
   "source": []
  },
  {
   "cell_type": "code",
   "execution_count": 2,
   "metadata": {
    "collapsed": false
   },
   "outputs": [
    {
     "data": {
      "text/plain": [
       "['likes',\n",
       " 'n_tweets',\n",
       " 'replies',\n",
       " 'retweets',\n",
       " 'time_business',\n",
       " 'time_early',\n",
       " 'time_evening',\n",
       " 'time_late',\n",
       " 'user_id',\n",
       " 'weekday_mean',\n",
       " 'wkday_0',\n",
       " 'wkday_1',\n",
       " 'wkday_2',\n",
       " 'wkday_3',\n",
       " 'wkday_4',\n",
       " 'wkday_5',\n",
       " 'wkday_6',\n",
       " 'LDA_0',\n",
       " 'LDA_1',\n",
       " 'LDA_2',\n",
       " 'LDA_3',\n",
       " 'LDA_4',\n",
       " 'LDA_5',\n",
       " 'LDA_6',\n",
       " 'LDA_7',\n",
       " 'LDA_8',\n",
       " 'LDA_9',\n",
       " 'LDA_10',\n",
       " 'LDA_11',\n",
       " 'LDA_12',\n",
       " 'LDA_13',\n",
       " 'LDA_14',\n",
       " 'LDA_15',\n",
       " 'LDA_16',\n",
       " 'LDA_17',\n",
       " 'LDA_18',\n",
       " 'LDA_19',\n",
       " 'Negative Sentiment',\n",
       " 'Positive Sentiment',\n",
       " 'Neutral Sentiment',\n",
       " 'variable',\n",
       " 'ratio',\n",
       " 'binary_label']"
      ]
     },
     "execution_count": 2,
     "metadata": {},
     "output_type": "execute_result"
    }
   ],
   "source": [
    "email = pd.read_csv('features_id_text.csv')\n",
    "#email.index = email['Unnamed: 0']\n",
    "email = email.drop('Unnamed: 0', axis = 1)\n",
    "list(email)"
   ]
  },
  {
   "cell_type": "code",
   "execution_count": 3,
   "metadata": {
    "collapsed": true
   },
   "outputs": [],
   "source": [
    "#split into folds\n",
    "def create_folds(full_data, n): \n",
    "    nlist = list(range(0,len(full_data)-1))\n",
    "#    random.seed(16)\n",
    "    random.shuffle(nlist)\n",
    "    fold_size = len(nlist) / n\n",
    "    ints = [nlist[int(round(fold_size * i)): \n",
    "                  int(round(fold_size * (i + 1)))] \n",
    "             for i in range(n)]\n",
    "    fold = [full_data.iloc[ints[i],:] for i in range(n)]\n",
    "    return fold\n",
    "\n",
    "def binary_metrics (test, label, pred):\n",
    "    acc = accuracy_score(test[label], test[pred])\n",
    "    f1 = f1_score(test[label], test[pred])\n",
    "    prec = precision_score(test[label], test[pred])\n",
    "    rec = recall_score(test[label], test[pred])\n",
    "    roc_auc = roc_auc_score(test[label], test[pred])\n",
    "    \n",
    "    tn, fp, fn, tp = confusion_matrix(test[label], test[pred]).ravel()\n",
    "    \n",
    "    return roc_auc, acc, prec, rec, f1\n",
    "\n",
    "def rfc_metrics (test, label, pred):\n",
    "    tn, fp, fn, tp = confusion_matrix(test[label], test[pred]).ravel()\n",
    "    \n",
    "    roc_auc, acc, prec, rec, f1 = binary_metrics(test, label, pred)\n",
    "    \n",
    "    roc = roc_curve(test[label], test[pred])\n",
    "    fpr = dict()\n",
    "    tpr = dict()\n",
    "    roc_auc = dict()\n",
    "    n_classes = test[label].nunique()\n",
    "    for i in range(n_classes):\n",
    "        fpr[i], tpr[i], _ = roc_curve(test[label], test[pred])\n",
    "        roc_auc[i] = auc(fpr[i], tpr[i])\n",
    "\n",
    "    # Compute micro-average ROC curve and ROC area\n",
    "    fpr[\"micro\"], tpr[\"micro\"], _ = roc_curve(test[label].ravel(), test[pred].ravel())\n",
    "    roc_auc[\"micro\"] = auc(fpr[\"micro\"], tpr[\"micro\"])\n",
    "\n",
    "    plt.figure(figsize=(8,5))\n",
    "    lw = 2\n",
    "    plt.plot(fpr[1], tpr[1], color='gold',\n",
    "             lw=lw, label='ROC curve (area = %0.2f)' % roc_auc[1])\n",
    "    plt.plot([0, 1], [0, 1], color='navy', lw=lw, linestyle='--')\n",
    "    plt.xlim([0.0, 1.0])\n",
    "    plt.ylim([0.0, 1.05])\n",
    "    plt.xlabel('False Positive Rate')\n",
    "    plt.ylabel('True Positive Rate')\n",
    "    plt.title('Receiver Operating Characteristic Example')\n",
    "    plt.legend(loc=\"lower right\")\n",
    "    plt.show()\n",
    "    \n",
    "    show_confusion_matrix(test, label, pred)\n",
    "    \n",
    "    return roc_auc[0], acc, prec, rec, f1\n",
    "\n",
    "def show_confusion_matrix(test, label, pred):\n",
    "    \n",
    "    C = confusion_matrix(test[label], test[pred])\n",
    "    tn, fp, fn, tp = C.ravel()\n",
    "    \n",
    "    NP = fn+tp # Num positive examples\n",
    "    NN = tn+fp # Num negative examples\n",
    "    N  = NP+NN\n",
    "\n",
    "    fig = plt.figure(figsize=(8,8))\n",
    "    ax  = fig.add_subplot(111)\n",
    "    ax.imshow(C, cmap=plt.cm.gray)\n",
    "\n",
    "    # Draw the grid boxes\n",
    "    ax.set_xlim(-0.5,2.5)\n",
    "    ax.set_ylim(2.5,-0.5)\n",
    "    ax.plot([-0.5,2.5],[0.5,0.5], '-k', lw=2)\n",
    "    ax.plot([-0.5,2.5],[1.5,1.5], '-k', lw=2)\n",
    "    ax.plot([0.5,0.5],[-0.5,2.5], '-k', lw=2)\n",
    "    ax.plot([1.5,1.5],[-0.5,2.5], '-k', lw=2)\n",
    "\n",
    "\n",
    "    # Set xlabels\n",
    "    ax.set_xlabel('Predicted Label', fontsize=16)\n",
    "    ax.set_xticks([0,1,2])\n",
    "    ax.set_xticklabels(['Show', 'No Show'])\n",
    "    ax.xaxis.set_label_position('top')\n",
    "    ax.xaxis.tick_top()\n",
    "    # These coordinate might require some tinkering. Ditto for y, below.\n",
    "    ax.xaxis.set_label_coords(0.34,1.06)\n",
    "\n",
    "    # Set ylabels\n",
    "    ax.set_ylabel('True Label', fontsize=16, rotation=90)\n",
    "    ax.set_yticklabels(['Show', 'No Show'])\n",
    "    ax.set_yticks([0,1,2])\n",
    "    ax.yaxis.set_label_coords(-0.09,0.65)\n",
    "\n",
    "\n",
    "    # Fill in initial metrics: tp, tn, etc...\n",
    "    ax.text(0,0,'True Negatives: %d\\n(Total Negatives: %d)'%(tn,NN),\n",
    "            va='center', ha='center', bbox=dict(fc='w',boxstyle='round,pad=1'))\n",
    "    ax.text(0,1,'False Negatives: %d'%fn,\n",
    "            va='center', ha='center', bbox=dict(fc='w',boxstyle='round,pad=1'))\n",
    "    ax.text(1,0,'False Positives: %d'%fp,\n",
    "           va='center', ha='center', bbox=dict(fc='w',boxstyle='round,pad=1'))\n",
    "    ax.text(1,1,'True Positives: %d\\n(Total Positives: %d)'%(tp,NP),\n",
    "            va='center', ha='center', bbox=dict(fc='w',boxstyle='round,pad=1'))\n",
    "    # Fill in secondary metrics: accuracy, true pos rate, etc...\n",
    "    ax.text(2,0,'True Negative Rate' + '\\n' +'(Specificity):%.2f'%(tn / (fp+tn+0.)),\n",
    "            va='center', ha='center', bbox=dict(fc='w',boxstyle='round,pad=1'))\n",
    "    ax.text(2,1,'True Positive Rate' + '\\n' + '(Sensitivity):%.2f'%(tp / (tp+fn+0.)),\n",
    "            va='center', ha='center', bbox=dict(fc='w',boxstyle='round,pad=1'))\n",
    "    ax.text(2,2,'F-1 Score: %.2f'%(round(2*tp/((2*tp) + fp + fn),3)),\n",
    "            va='center', ha='center', bbox=dict(fc='w',boxstyle='round,pad=1'))\n",
    "    ax.text(0,2,'Negative Predictive ' + '\\n' + 'Value: %.2f'%(1-fn/(fn+tn+0.)),\n",
    "           va='center', ha='center', bbox=dict(fc='w',boxstyle='round,pad=1'))\n",
    "    ax.text(1,2,'Positive Predictive ' + '\\n' + 'Value: %.2f'%(tp/(tp+fp+0.)),\n",
    "            va='center', ha='center', bbox=dict(fc='w',boxstyle='round,pad=1'))\n",
    "    plt.tight_layout()\n",
    "    plt.show()\n",
    "    \n",
    "    return None\n",
    "\n",
    "def run_model_lr(full, test, label, pred, plot = False, CV = False):\n",
    "    train = pd.concat([full, test]).drop_duplicates(keep=False)\n",
    "    trainArr = train.drop(['variable', 'binary_label'], axis = 1).as_matrix()\n",
    "    trainRes = train.as_matrix(['binary_label'])\n",
    "    testArr = test.drop(['variable', 'binary_label'], axis = 1).as_matrix()\n",
    "    \n",
    "    if CV:\n",
    "        lr = LogisticRegressionCV(scoring = 'roc_auc')\n",
    "        lr.fit(trainArr, trainRes)\n",
    "        lr.fit(trainArr, trainRes)\n",
    "        predictions = lr.predict(testArr)\n",
    "        \n",
    "    else:\n",
    "    #gridsearch\n",
    "        param_test1 = {'C':[0.0001,0.001,0.01,0.1,1,10,100,1000],\n",
    "                       'solver':['newton-cg', 'lbfgs', 'liblinear', 'sag', 'saga']\n",
    "                      }\n",
    "        gridsearch = GridSearchCV(estimator = LogisticRegression(class_weight = 'balanced'),\n",
    "                                  param_grid = param_test1, scoring = 'roc_auc')\n",
    "\n",
    "        gridsearch.fit(trainArr,trainRes)\n",
    "\n",
    "        lr = LogisticRegression(C=list(gridsearch.best_params_.values())[0],\n",
    "                                    solver=list(gridsearch.best_params_.values())[1])\n",
    "\n",
    "        lr.fit(trainArr, trainRes) \n",
    "        predictions = lr.predict(testArr)\n",
    "        \n",
    "    data = pd.DataFrame(list(test[label]),columns=[label], index = test.index)\n",
    "    data[pred] = pd.Series(list(predictions), index=data.index)                \n",
    "    \n",
    "    if plot:\n",
    "        roc_auc, acc, prec, rec, f1 = rfc_metrics(data, label, pred)\n",
    "    else:\n",
    "        roc_auc, acc, prec, rec, f1 = binary_metrics(data, label, pred)\n",
    "    \n",
    "    return data, [roc_auc, acc, prec, rec, f1]"
   ]
  },
  {
   "cell_type": "code",
   "execution_count": 4,
   "metadata": {
    "collapsed": true
   },
   "outputs": [],
   "source": [
    "def run_model_rfc (full, test, label, pred, plot = False):\n",
    "    train = pd.concat([full, test]).drop_duplicates(keep=False)\n",
    "    trainArr = train.drop(['variable', 'binary_label'], axis = 1).as_matrix()\n",
    "    trainRes = train.as_matrix(['binary_label'])\n",
    "    testArr = test.drop(['variable', 'binary_label'], axis = 1).as_matrix()\n",
    "    \n",
    "    \n",
    "    param_test1 = {'n_estimators':np.arange(20,111,10).tolist(), \n",
    "                   'max_features':np.arange(0.1,1,0.1).tolist()\n",
    "                   , 'class_weight':['balanced', None]\n",
    "                   ,'criterion':['gini', 'entropy']\n",
    "                  }\n",
    "    gridsearch = GridSearchCV(estimator = RandomForestClassifier(random_state=10),\n",
    "                              param_grid = param_test1, scoring = 'roc_auc', n_jobs=4,iid=False, cv=5)\n",
    "\n",
    "    gridsearch.fit(trainArr,trainRes)\n",
    "    \n",
    "    predictions = gridsearch.predict(testArr)\n",
    "    \n",
    "    data = pd.DataFrame(list(test[label]),columns=[label], index = test.index)\n",
    "    data[pred] = pd.Series(list(predictions), index=data.index) \n",
    "    \n",
    "    if plot:\n",
    "        roc_auc, acc, prec, rec, f1 = rfc_metrics(data, label, pred)\n",
    "    else:\n",
    "        roc_auc, acc, prec, rec, f1 = binary_metrics(data, label, pred)    \n",
    "    \n",
    "    return data, [roc_auc, acc, prec, rec, f1]"
   ]
  },
  {
   "cell_type": "markdown",
   "metadata": {},
   "source": [
    "### Filter Users"
   ]
  },
  {
   "cell_type": "code",
   "execution_count": 5,
   "metadata": {
    "collapsed": false
   },
   "outputs": [],
   "source": [
    "full_data = email\n",
    "#drop the user in turkish\n",
    "full_data = full_data.drop(full_data[full_data.index == 2697].index)\n",
    "#drop not common tweeters\n",
    "#full_data = full_data.drop(full_data[full_data.n_tweets == 1].index)\n",
    "#full_data = full_data.drop(full_data[full_data.n_tweets > 800].index)"
   ]
  },
  {
   "cell_type": "code",
   "execution_count": 6,
   "metadata": {
    "collapsed": true
   },
   "outputs": [],
   "source": [
    "fold1, fold2, fold3, fold4, fold5 = create_folds(full_data,5)"
   ]
  },
  {
   "cell_type": "code",
   "execution_count": 7,
   "metadata": {
    "collapsed": false
   },
   "outputs": [
    {
     "data": {
      "image/png": "[encoded data removed]",
      "text/plain": [
       "<matplotlib.figure.Figure at 0x111e34ad0>"
      ]
     },
     "metadata": {},
     "output_type": "display_data"
    }
   ],
   "source": [
    "plt.hist(fold1.binary_label)\n",
    "plt.hist(fold2.binary_label)\n",
    "plt.hist(fold3.binary_label)\n",
    "plt.show()"
   ]
  },
  {
   "cell_type": "code",
   "execution_count": 8,
   "metadata": {
    "collapsed": false
   },
   "outputs": [
    {
     "ename": "IndexError",
     "evalue": "too many indices for array",
     "output_type": "error",
     "traceback": [
      "\u001b[0;31m---------------------------------------------------------------------------\u001b[0m",
      "\u001b[0;31mIndexError\u001b[0m                                Traceback (most recent call last)",
      "\u001b[0;32m<ipython-input-8-14e158ab0729>\u001b[0m in \u001b[0;36m<module>\u001b[0;34m()\u001b[0m\n\u001b[1;32m      1\u001b[0m \u001b[0mlabel\u001b[0m\u001b[0;34m,\u001b[0m \u001b[0mpred\u001b[0m \u001b[0;34m=\u001b[0m \u001b[0;34m'binary_label'\u001b[0m\u001b[0;34m,\u001b[0m \u001b[0;34m'predictions'\u001b[0m\u001b[0;34m\u001b[0m\u001b[0m\n\u001b[1;32m      2\u001b[0m \u001b[0;34m\u001b[0m\u001b[0m\n\u001b[0;32m----> 3\u001b[0;31m \u001b[0mt1\u001b[0m\u001b[0;34m,\u001b[0m \u001b[0mb1\u001b[0m \u001b[0;34m=\u001b[0m \u001b[0mrun_model_lr\u001b[0m\u001b[0;34m(\u001b[0m\u001b[0mfull_data\u001b[0m\u001b[0;34m,\u001b[0m \u001b[0mfold1\u001b[0m\u001b[0;34m,\u001b[0m \u001b[0mlabel\u001b[0m\u001b[0;34m,\u001b[0m \u001b[0mpred\u001b[0m\u001b[0;34m)\u001b[0m\u001b[0;34m\u001b[0m\u001b[0m\n\u001b[0m\u001b[1;32m      4\u001b[0m \u001b[0mt2\u001b[0m\u001b[0;34m,\u001b[0m \u001b[0mb2\u001b[0m \u001b[0;34m=\u001b[0m \u001b[0mrun_model_lr\u001b[0m\u001b[0;34m(\u001b[0m\u001b[0mfull_data\u001b[0m\u001b[0;34m,\u001b[0m \u001b[0mfold2\u001b[0m\u001b[0;34m,\u001b[0m \u001b[0mlabel\u001b[0m\u001b[0;34m,\u001b[0m \u001b[0mpred\u001b[0m\u001b[0;34m)\u001b[0m\u001b[0;34m\u001b[0m\u001b[0m\n\u001b[1;32m      5\u001b[0m \u001b[0mt3\u001b[0m\u001b[0;34m,\u001b[0m \u001b[0mb3\u001b[0m \u001b[0;34m=\u001b[0m \u001b[0mrun_model_lr\u001b[0m\u001b[0;34m(\u001b[0m\u001b[0mfull_data\u001b[0m\u001b[0;34m,\u001b[0m \u001b[0mfold3\u001b[0m\u001b[0;34m,\u001b[0m \u001b[0mlabel\u001b[0m\u001b[0;34m,\u001b[0m \u001b[0mpred\u001b[0m\u001b[0;34m)\u001b[0m\u001b[0;34m\u001b[0m\u001b[0m\n",
      "\u001b[0;32m<ipython-input-3-a5604d9ab84f>\u001b[0m in \u001b[0;36mrun_model_lr\u001b[0;34m(full, test, label, pred, plot, CV)\u001b[0m\n\u001b[1;32m    140\u001b[0m                                   param_grid = param_test1, scoring = 'roc_auc')\n\u001b[1;32m    141\u001b[0m \u001b[0;34m\u001b[0m\u001b[0m\n\u001b[0;32m--> 142\u001b[0;31m         \u001b[0mgridsearch\u001b[0m\u001b[0;34m.\u001b[0m\u001b[0mfit\u001b[0m\u001b[0;34m(\u001b[0m\u001b[0mtrainArr\u001b[0m\u001b[0;34m,\u001b[0m\u001b[0mtrainRes\u001b[0m\u001b[0;34m)\u001b[0m\u001b[0;34m\u001b[0m\u001b[0m\n\u001b[0m\u001b[1;32m    143\u001b[0m \u001b[0;34m\u001b[0m\u001b[0m\n\u001b[1;32m    144\u001b[0m         lr = LogisticRegression(C=list(gridsearch.best_params_.values())[0],\n",
      "\u001b[0;32m/Users/danieljohnsonjr/anaconda2/lib/python2.7/site-packages/sklearn/model_selection/_search.pyc\u001b[0m in \u001b[0;36mfit\u001b[0;34m(self, X, y, groups)\u001b[0m\n\u001b[1;32m    943\u001b[0m             \u001b[0mtrain\u001b[0m\u001b[0;34m/\u001b[0m\u001b[0mtest\u001b[0m \u001b[0mset\u001b[0m\u001b[0;34m.\u001b[0m\u001b[0;34m\u001b[0m\u001b[0m\n\u001b[1;32m    944\u001b[0m         \"\"\"\n\u001b[0;32m--> 945\u001b[0;31m         \u001b[0;32mreturn\u001b[0m \u001b[0mself\u001b[0m\u001b[0;34m.\u001b[0m\u001b[0m_fit\u001b[0m\u001b[0;34m(\u001b[0m\u001b[0mX\u001b[0m\u001b[0;34m,\u001b[0m \u001b[0my\u001b[0m\u001b[0;34m,\u001b[0m \u001b[0mgroups\u001b[0m\u001b[0;34m,\u001b[0m \u001b[0mParameterGrid\u001b[0m\u001b[0;34m(\u001b[0m\u001b[0mself\u001b[0m\u001b[0;34m.\u001b[0m\u001b[0mparam_grid\u001b[0m\u001b[0;34m)\u001b[0m\u001b[0;34m)\u001b[0m\u001b[0;34m\u001b[0m\u001b[0m\n\u001b[0m\u001b[1;32m    946\u001b[0m \u001b[0;34m\u001b[0m\u001b[0m\n\u001b[1;32m    947\u001b[0m \u001b[0;34m\u001b[0m\u001b[0m\n",
      "\u001b[0;32m/Users/danieljohnsonjr/anaconda2/lib/python2.7/site-packages/sklearn/model_selection/_search.pyc\u001b[0m in \u001b[0;36m_fit\u001b[0;34m(self, X, y, groups, parameter_iterable)\u001b[0m\n\u001b[1;32m    551\u001b[0m         \u001b[0mpre_dispatch\u001b[0m \u001b[0;34m=\u001b[0m \u001b[0mself\u001b[0m\u001b[0;34m.\u001b[0m\u001b[0mpre_dispatch\u001b[0m\u001b[0;34m\u001b[0m\u001b[0m\n\u001b[1;32m    552\u001b[0m \u001b[0;34m\u001b[0m\u001b[0m\n\u001b[0;32m--> 553\u001b[0;31m         \u001b[0mcv_iter\u001b[0m \u001b[0;34m=\u001b[0m \u001b[0mlist\u001b[0m\u001b[0;34m(\u001b[0m\u001b[0mcv\u001b[0m\u001b[0;34m.\u001b[0m\u001b[0msplit\u001b[0m\u001b[0;34m(\u001b[0m\u001b[0mX\u001b[0m\u001b[0;34m,\u001b[0m \u001b[0my\u001b[0m\u001b[0;34m,\u001b[0m \u001b[0mgroups\u001b[0m\u001b[0;34m)\u001b[0m\u001b[0;34m)\u001b[0m\u001b[0;34m\u001b[0m\u001b[0m\n\u001b[0m\u001b[1;32m    554\u001b[0m         out = Parallel(\n\u001b[1;32m    555\u001b[0m             \u001b[0mn_jobs\u001b[0m\u001b[0;34m=\u001b[0m\u001b[0mself\u001b[0m\u001b[0;34m.\u001b[0m\u001b[0mn_jobs\u001b[0m\u001b[0;34m,\u001b[0m \u001b[0mverbose\u001b[0m\u001b[0;34m=\u001b[0m\u001b[0mself\u001b[0m\u001b[0;34m.\u001b[0m\u001b[0mverbose\u001b[0m\u001b[0;34m,\u001b[0m\u001b[0;34m\u001b[0m\u001b[0m\n",
      "\u001b[0;32m/Users/danieljohnsonjr/anaconda2/lib/python2.7/site-packages/sklearn/model_selection/_split.pyc\u001b[0m in \u001b[0;36msplit\u001b[0;34m(self, X, y, groups)\u001b[0m\n\u001b[1;32m    320\u001b[0m                                                              n_samples))\n\u001b[1;32m    321\u001b[0m \u001b[0;34m\u001b[0m\u001b[0m\n\u001b[0;32m--> 322\u001b[0;31m         \u001b[0;32mfor\u001b[0m \u001b[0mtrain\u001b[0m\u001b[0;34m,\u001b[0m \u001b[0mtest\u001b[0m \u001b[0;32min\u001b[0m \u001b[0msuper\u001b[0m\u001b[0;34m(\u001b[0m\u001b[0m_BaseKFold\u001b[0m\u001b[0;34m,\u001b[0m \u001b[0mself\u001b[0m\u001b[0;34m)\u001b[0m\u001b[0;34m.\u001b[0m\u001b[0msplit\u001b[0m\u001b[0;34m(\u001b[0m\u001b[0mX\u001b[0m\u001b[0;34m,\u001b[0m \u001b[0my\u001b[0m\u001b[0;34m,\u001b[0m \u001b[0mgroups\u001b[0m\u001b[0;34m)\u001b[0m\u001b[0;34m:\u001b[0m\u001b[0;34m\u001b[0m\u001b[0m\n\u001b[0m\u001b[1;32m    323\u001b[0m             \u001b[0;32myield\u001b[0m \u001b[0mtrain\u001b[0m\u001b[0;34m,\u001b[0m \u001b[0mtest\u001b[0m\u001b[0;34m\u001b[0m\u001b[0m\n\u001b[1;32m    324\u001b[0m \u001b[0;34m\u001b[0m\u001b[0m\n",
      "\u001b[0;32m/Users/danieljohnsonjr/anaconda2/lib/python2.7/site-packages/sklearn/model_selection/_split.pyc\u001b[0m in \u001b[0;36msplit\u001b[0;34m(self, X, y, groups)\u001b[0m\n\u001b[1;32m     89\u001b[0m         \u001b[0mX\u001b[0m\u001b[0;34m,\u001b[0m \u001b[0my\u001b[0m\u001b[0;34m,\u001b[0m \u001b[0mgroups\u001b[0m \u001b[0;34m=\u001b[0m \u001b[0mindexable\u001b[0m\u001b[0;34m(\u001b[0m\u001b[0mX\u001b[0m\u001b[0;34m,\u001b[0m \u001b[0my\u001b[0m\u001b[0;34m,\u001b[0m \u001b[0mgroups\u001b[0m\u001b[0;34m)\u001b[0m\u001b[0;34m\u001b[0m\u001b[0m\n\u001b[1;32m     90\u001b[0m         \u001b[0mindices\u001b[0m \u001b[0;34m=\u001b[0m \u001b[0mnp\u001b[0m\u001b[0;34m.\u001b[0m\u001b[0marange\u001b[0m\u001b[0;34m(\u001b[0m\u001b[0m_num_samples\u001b[0m\u001b[0;34m(\u001b[0m\u001b[0mX\u001b[0m\u001b[0;34m)\u001b[0m\u001b[0;34m)\u001b[0m\u001b[0;34m\u001b[0m\u001b[0m\n\u001b[0;32m---> 91\u001b[0;31m         \u001b[0;32mfor\u001b[0m \u001b[0mtest_index\u001b[0m \u001b[0;32min\u001b[0m \u001b[0mself\u001b[0m\u001b[0;34m.\u001b[0m\u001b[0m_iter_test_masks\u001b[0m\u001b[0;34m(\u001b[0m\u001b[0mX\u001b[0m\u001b[0;34m,\u001b[0m \u001b[0my\u001b[0m\u001b[0;34m,\u001b[0m \u001b[0mgroups\u001b[0m\u001b[0;34m)\u001b[0m\u001b[0;34m:\u001b[0m\u001b[0;34m\u001b[0m\u001b[0m\n\u001b[0m\u001b[1;32m     92\u001b[0m             \u001b[0mtrain_index\u001b[0m \u001b[0;34m=\u001b[0m \u001b[0mindices\u001b[0m\u001b[0;34m[\u001b[0m\u001b[0mnp\u001b[0m\u001b[0;34m.\u001b[0m\u001b[0mlogical_not\u001b[0m\u001b[0;34m(\u001b[0m\u001b[0mtest_index\u001b[0m\u001b[0;34m)\u001b[0m\u001b[0;34m]\u001b[0m\u001b[0;34m\u001b[0m\u001b[0m\n\u001b[1;32m     93\u001b[0m             \u001b[0mtest_index\u001b[0m \u001b[0;34m=\u001b[0m \u001b[0mindices\u001b[0m\u001b[0;34m[\u001b[0m\u001b[0mtest_index\u001b[0m\u001b[0;34m]\u001b[0m\u001b[0;34m\u001b[0m\u001b[0m\n",
      "\u001b[0;32m/Users/danieljohnsonjr/anaconda2/lib/python2.7/site-packages/sklearn/model_selection/_split.pyc\u001b[0m in \u001b[0;36m_iter_test_masks\u001b[0;34m(self, X, y, groups)\u001b[0m\n\u001b[1;32m    608\u001b[0m \u001b[0;34m\u001b[0m\u001b[0m\n\u001b[1;32m    609\u001b[0m     \u001b[0;32mdef\u001b[0m \u001b[0m_iter_test_masks\u001b[0m\u001b[0;34m(\u001b[0m\u001b[0mself\u001b[0m\u001b[0;34m,\u001b[0m \u001b[0mX\u001b[0m\u001b[0;34m,\u001b[0m \u001b[0my\u001b[0m\u001b[0;34m=\u001b[0m\u001b[0mNone\u001b[0m\u001b[0;34m,\u001b[0m \u001b[0mgroups\u001b[0m\u001b[0;34m=\u001b[0m\u001b[0mNone\u001b[0m\u001b[0;34m)\u001b[0m\u001b[0;34m:\u001b[0m\u001b[0;34m\u001b[0m\u001b[0m\n\u001b[0;32m--> 610\u001b[0;31m         \u001b[0mtest_folds\u001b[0m \u001b[0;34m=\u001b[0m \u001b[0mself\u001b[0m\u001b[0;34m.\u001b[0m\u001b[0m_make_test_folds\u001b[0m\u001b[0;34m(\u001b[0m\u001b[0mX\u001b[0m\u001b[0;34m,\u001b[0m \u001b[0my\u001b[0m\u001b[0;34m)\u001b[0m\u001b[0;34m\u001b[0m\u001b[0m\n\u001b[0m\u001b[1;32m    611\u001b[0m         \u001b[0;32mfor\u001b[0m \u001b[0mi\u001b[0m \u001b[0;32min\u001b[0m \u001b[0mrange\u001b[0m\u001b[0;34m(\u001b[0m\u001b[0mself\u001b[0m\u001b[0;34m.\u001b[0m\u001b[0mn_splits\u001b[0m\u001b[0;34m)\u001b[0m\u001b[0;34m:\u001b[0m\u001b[0;34m\u001b[0m\u001b[0m\n\u001b[1;32m    612\u001b[0m             \u001b[0;32myield\u001b[0m \u001b[0mtest_folds\u001b[0m \u001b[0;34m==\u001b[0m \u001b[0mi\u001b[0m\u001b[0;34m\u001b[0m\u001b[0m\n",
      "\u001b[0;32m/Users/danieljohnsonjr/anaconda2/lib/python2.7/site-packages/sklearn/model_selection/_split.pyc\u001b[0m in \u001b[0;36m_make_test_folds\u001b[0;34m(self, X, y, groups)\u001b[0m\n\u001b[1;32m    595\u001b[0m         \u001b[0;32mfor\u001b[0m \u001b[0mtest_fold_indices\u001b[0m\u001b[0;34m,\u001b[0m \u001b[0mper_cls_splits\u001b[0m \u001b[0;32min\u001b[0m \u001b[0menumerate\u001b[0m\u001b[0;34m(\u001b[0m\u001b[0mzip\u001b[0m\u001b[0;34m(\u001b[0m\u001b[0;34m*\u001b[0m\u001b[0mper_cls_cvs\u001b[0m\u001b[0;34m)\u001b[0m\u001b[0;34m)\u001b[0m\u001b[0;34m:\u001b[0m\u001b[0;34m\u001b[0m\u001b[0m\n\u001b[1;32m    596\u001b[0m             \u001b[0;32mfor\u001b[0m \u001b[0mcls\u001b[0m\u001b[0;34m,\u001b[0m \u001b[0;34m(\u001b[0m\u001b[0m_\u001b[0m\u001b[0;34m,\u001b[0m \u001b[0mtest_split\u001b[0m\u001b[0;34m)\u001b[0m \u001b[0;32min\u001b[0m \u001b[0mzip\u001b[0m\u001b[0;34m(\u001b[0m\u001b[0munique_y\u001b[0m\u001b[0;34m,\u001b[0m \u001b[0mper_cls_splits\u001b[0m\u001b[0;34m)\u001b[0m\u001b[0;34m:\u001b[0m\u001b[0;34m\u001b[0m\u001b[0m\n\u001b[0;32m--> 597\u001b[0;31m                 \u001b[0mcls_test_folds\u001b[0m \u001b[0;34m=\u001b[0m \u001b[0mtest_folds\u001b[0m\u001b[0;34m[\u001b[0m\u001b[0my\u001b[0m \u001b[0;34m==\u001b[0m \u001b[0mcls\u001b[0m\u001b[0;34m]\u001b[0m\u001b[0;34m\u001b[0m\u001b[0m\n\u001b[0m\u001b[1;32m    598\u001b[0m                 \u001b[0;31m# the test split can be too big because we used\u001b[0m\u001b[0;34m\u001b[0m\u001b[0;34m\u001b[0m\u001b[0m\n\u001b[1;32m    599\u001b[0m                 \u001b[0;31m# KFold(...).split(X[:max(c, n_splits)]) when data is not 100%\u001b[0m\u001b[0;34m\u001b[0m\u001b[0;34m\u001b[0m\u001b[0m\n",
      "\u001b[0;31mIndexError\u001b[0m: too many indices for array"
     ]
    }
   ],
   "source": [
    "label, pred = 'binary_label', 'predictions'\n",
    "\n",
    "t1, b1 = run_model_lr(full_data, fold1, label, pred)\n",
    "t2, b2 = run_model_lr(full_data, fold2, label, pred)\n",
    "t3, b3 = run_model_lr(full_data, fold3, label, pred)\n",
    "t4, b4 = run_model_lr(full_data, fold4, label, pred)\n",
    "t5, b5 = run_model_lr(full_data, fold5, label, pred, plot = True)\n",
    "\n",
    "binary = pd.DataFrame([b1, b2, b3, b4, b5])\n",
    "binary.columns = ['ROC AUC Score','Accuracy', 'Recall', 'Precision', 'F-1 Score']\n",
    "binary.index = ['Fold 1', 'Fold 2', 'Fold 3', 'Fold 4', 'Fold 5']\n",
    "binary.loc['Mean'] = binary.mean()\n",
    "binary\n",
    "\n",
    "### inter fold variation\n",
    "### new models to try"
   ]
  },
  {
   "cell_type": "code",
   "execution_count": null,
   "metadata": {
    "collapsed": false
   },
   "outputs": [],
   "source": [
    "list(full_data)"
   ]
  },
  {
   "cell_type": "code",
   "execution_count": null,
   "metadata": {
    "collapsed": true
   },
   "outputs": [],
   "source": [
    "label, pred = 'binary_label', 'predictions'\n",
    "\n",
    "t1, b1 = run_model_rfc(full_data, fold1, label, pred)\n",
    "t2, b2 = run_model_rfc(full_data, fold2, label, pred)\n",
    "t3, b3 = run_model_rfc(full_data, fold3, label, pred)\n",
    "t4, b4 = run_model_rfc(full_data, fold4, label, pred)\n",
    "t5, b5 = run_model_rfc(full_data, fold5, label, pred)\n",
    "\n",
    "binary = pd.DataFrame([b1, b2, b3, b4, b5])\n",
    "binary.columns = ['ROC AUC Score','Accuracy', 'Recall', 'Precision', 'F-1 Score']\n",
    "binary.index = ['Fold 1', 'Fold 2', 'Fold 3', 'Fold 4', 'Fold 5']\n",
    "binary.loc['Mean'] = binary.mean()\n",
    "binary"
   ]
  },
  {
   "cell_type": "code",
   "execution_count": null,
   "metadata": {
    "collapsed": false
   },
   "outputs": [],
   "source": [
    "list(full_data)"
   ]
  },
  {
   "cell_type": "code",
   "execution_count": null,
   "metadata": {
    "collapsed": true
   },
   "outputs": [],
   "source": [
    "def run_model_lr_rfe(full, test, label, pred, plot = False, CV = False):\n",
    "    train = pd.concat([full, test]).drop_duplicates(keep=False)\n",
    "    trainArr = train.drop(['variable', 'binary_label'], axis = 1).as_matrix()\n",
    "    trainRes = train.as_matrix(['binary_label'])\n",
    "    testArr = test.drop(['variable', 'binary_label'], axis = 1).as_matrix()\n",
    "    \n",
    "    if CV:\n",
    "        estimator = LogisticRegressionCV(scoring = 'roc_auc')\n",
    "        \n",
    "    else:\n",
    "    #gridsearch\n",
    "        param_test1 = {'C':[0.0001,0.001,0.01,0.1,1,10,100,1000],\n",
    "                       'solver':['newton-cg', 'lbfgs', 'liblinear', 'sag', 'saga']\n",
    "                      }\n",
    "        gridsearch = GridSearchCV(estimator = LogisticRegression(class_weight = 'balanced'),\n",
    "                                  param_grid = param_test1, scoring = 'roc_auc')\n",
    "\n",
    "        gridsearch.fit(trainArr,trainRes)\n",
    "\n",
    "        estimator = LogisticRegression(C=list(gridsearch.best_params_.values())[0],\n",
    "                                    solver=list(gridsearch.best_params_.values())[1])\n",
    "    \n",
    "    selector = RFE(estimator, step=1)\n",
    "    selector = selector.fit(trainArr, trainRes)\n",
    "    predictions = selector.predict(testArr)\n",
    "        \n",
    "    data = pd.DataFrame(list(test[label]),columns=[label], index = test.index)\n",
    "    data[pred] = pd.Series(list(predictions), index=data.index)                \n",
    "    \n",
    "    if plot:\n",
    "        roc_auc, acc, prec, rec, f1 = rfc_metrics(data, label, pred)\n",
    "    else:\n",
    "        roc_auc, acc, prec, rec, f1 = binary_metrics(data, label, pred)\n",
    "    \n",
    "    return data, [roc_auc, acc, prec, rec, f1]"
   ]
  },
  {
   "cell_type": "code",
   "execution_count": null,
   "metadata": {
    "collapsed": false
   },
   "outputs": [],
   "source": [
    "label, pred = 'binary_label', 'predictions'\n",
    "\n",
    "t1, b1 = run_model_lr_rfe(full_data, fold1, label, pred, CV = True)\n",
    "t2, b2 = run_model_lr_rfe(full_data, fold2, label, pred, CV = True)\n",
    "t3, b3 = run_model_lr_rfe(full_data, fold3, label, pred, CV = True)\n",
    "t4, b4 = run_model_lr_rfe(full_data, fold4, label, pred, CV = True)\n",
    "t5, b5 = run_model_lr_rfe(full_data, fold5, label, pred, CV = True)\n",
    "\n",
    "binary = pd.DataFrame([b1, b2, b3, b4, b5])\n",
    "binary.columns = ['ROC AUC Score','Accuracy', 'Recall', 'Precision', 'F-1 Score']\n",
    "binary.index = ['Fold 1', 'Fold 2', 'Fold 3', 'Fold 4', 'Fold 5']\n",
    "binary.loc['Mean'] = binary.mean()\n",
    "binary"
   ]
  },
  {
   "cell_type": "code",
   "execution_count": null,
   "metadata": {
    "collapsed": true
   },
   "outputs": [],
   "source": [
    "#full_data.hist(column='variable', bins = 5)\n",
    "plt.hist(full_data.variable, bins = 5)\n",
    "plt.show()\n",
    "\n",
    "plt.hist(full_data.binary_label, bins = 2, color='green')\n",
    "plt.show()\n",
    "\n",
    "plt.hist(full_data.n_tweets, bins = 20, color = 'purple')\n",
    "plt.show()\n",
    "\n",
    "plt.hist(full_data.ratio, color = 'gold')\n",
    "plt.show()"
   ]
  }
 ],
 "metadata": {
  "anaconda-cloud": {},
  "kernelspec": {
   "display_name": "Python [conda root]",
   "language": "python",
   "name": "conda-root-py"
  },
  "language_info": {
   "codemirror_mode": {
    "name": "ipython",
    "version": 2
   },
   "file_extension": ".py",
   "mimetype": "text/x-python",
   "name": "python",
   "nbconvert_exporter": "python",
   "pygments_lexer": "ipython2",
   "version": "2.7.12"
  }
 },
 "nbformat": 4,
 "nbformat_minor": 2
}
